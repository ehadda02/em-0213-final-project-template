{
  "nbformat": 4,
  "nbformat_minor": 0,
  "metadata": {
    "colab": {
      "name": "Shipsnet.ipynb",
      "provenance": [],
      "collapsed_sections": [],
      "machine_shape": "hm"
    },
    "kernelspec": {
      "name": "python3",
      "display_name": "Python 3"
    },
    "language_info": {
      "name": "python"
    }
  },
  "cells": [
    {
      "cell_type": "markdown",
      "metadata": {
        "id": "E-1H3YgQ8Vqs"
      },
      "source": [
        "<font size=\"3\">__Team 3 Final Project: Ships in San Francisco__\n",
        "\n",
        "Kelli Byrne, Elizabeth Haddad, Runze Wang\n",
        "\n",
        "November 17, 2021</font>"
      ]
    },
    {
      "cell_type": "markdown",
      "metadata": {
        "id": "fgkN3Ljz9Lm3"
      },
      "source": [
        "________\n",
        "# 1.0 Problem Statement\n",
        "________\n"
      ]
    },
    {
      "cell_type": "markdown",
      "metadata": {
        "id": "8sMsSBlt9MeH"
      },
      "source": [
        "________\n",
        "# 2.0 Dataset\n",
        "________\n"
      ]
    },
    {
      "cell_type": "markdown",
      "metadata": {
        "id": "lNwHy9TW916E"
      },
      "source": [
        "We will using the ‘Objects 2d: Ships in San Francisco’ dataset available here: https://www.kaggle.com/rhammell/ships-in-satellite-imagery\n",
        "\n",
        "As the Kaggle website explains, the dataset consists of image chips extracted from Planet satellite imagery collected over the San Francisco Bay and San Pedro Bay areas of California. It includes 4000 80x80 RGB images labeled with either a \"ship\" or \"no-ship\" classification, and is also distributed as a JSON formatted text file shipsnet.json. The loaded object contains data, label, scene_ids, and location lists.\n",
        "\n",
        "We have also applied for Planet’s Education and Research Program to gain free access to additional satellite imagery of San Francisco Bay with timestamp data.\n",
        "\n",
        "We have also downloaded a port boundary polygon from the State of California GIS data, available here: https://gis.data.ca.gov/datasets/ca25a3a15fa2448c801499638300780e_0/explore\n"
      ]
    },
    {
      "cell_type": "markdown",
      "metadata": {
        "id": "n2xCzmkf95_4"
      },
      "source": [
        "## 2.1 Import Libraries"
      ]
    },
    {
      "cell_type": "code",
      "metadata": {
        "id": "kYFI-HFh-NgF"
      },
      "source": [
        "import pandas as pd\n",
        "import matplotlib.pyplot as plt\n",
        "import matplotlib.colors as clrs\n",
        "import seaborn as sns\n",
        "import numpy as np"
      ],
      "execution_count": null,
      "outputs": []
    },
    {
      "cell_type": "markdown",
      "metadata": {
        "id": "va7UFUqp-Sje"
      },
      "source": [
        "## 2.2 Import JSON"
      ]
    },
    {
      "cell_type": "code",
      "metadata": {
        "colab": {
          "base_uri": "https://localhost:8080/"
        },
        "id": "00-oh3cK-VH9",
        "outputId": "83dfd783-a6f6-4c81-8900-6c9a526570ad"
      },
      "source": [
        "#Mount Google Drive\n",
        "from google.colab import drive\n",
        "drive.mount('/content/drive')"
      ],
      "execution_count": null,
      "outputs": [
        {
          "output_type": "stream",
          "name": "stdout",
          "text": [
            "Mounted at /content/drive\n"
          ]
        }
      ]
    },
    {
      "cell_type": "code",
      "metadata": {
        "id": "mukiIowp-Z5e",
        "colab": {
          "base_uri": "https://localhost:8080/"
        },
        "outputId": "c49ca69e-cc44-4c50-db60-e13c35d84703"
      },
      "source": [
        "#List items in data folder on Google Drive\n",
        "!ls '/content/drive/MyDrive/EM-0213/shipsnet'"
      ],
      "execution_count": null,
      "outputs": [
        {
          "output_type": "stream",
          "name": "stdout",
          "text": [
            "scenes\tshipsnet  shipsnet.json\n"
          ]
        }
      ]
    },
    {
      "cell_type": "code",
      "metadata": {
        "id": "vcztG-8TBYRD"
      },
      "source": [
        "#Save JSON data as variable\n",
        "shipsdata = pd.read_csv('/content/drive/MyDrive/EM-0213/shipsnet/shipsnet.json')\n"
      ],
      "execution_count": null,
      "outputs": []
    },
    {
      "cell_type": "markdown",
      "metadata": {
        "id": "_p30pR5P_J8U"
      },
      "source": [
        "## 2.2 Read JSON"
      ]
    },
    {
      "cell_type": "code",
      "metadata": {
        "colab": {
          "base_uri": "https://localhost:8080/",
          "height": 419
        },
        "id": "hutsB0Ox-5jO",
        "outputId": "690baaca-9674-41fe-ecdb-77c73cd51dc1"
      },
      "source": [
        "# Read the shipsnet.json\n",
        "pd.read_json('/content/drive/MyDrive/EM-0213/shipsnet/shipsnet.json')"
      ],
      "execution_count": null,
      "outputs": [
        {
          "output_type": "execute_result",
          "data": {
            "text/html": [
              "<div>\n",
              "<style scoped>\n",
              "    .dataframe tbody tr th:only-of-type {\n",
              "        vertical-align: middle;\n",
              "    }\n",
              "\n",
              "    .dataframe tbody tr th {\n",
              "        vertical-align: top;\n",
              "    }\n",
              "\n",
              "    .dataframe thead th {\n",
              "        text-align: right;\n",
              "    }\n",
              "</style>\n",
              "<table border=\"1\" class=\"dataframe\">\n",
              "  <thead>\n",
              "    <tr style=\"text-align: right;\">\n",
              "      <th></th>\n",
              "      <th>data</th>\n",
              "      <th>labels</th>\n",
              "      <th>locations</th>\n",
              "      <th>scene_ids</th>\n",
              "    </tr>\n",
              "  </thead>\n",
              "  <tbody>\n",
              "    <tr>\n",
              "      <th>0</th>\n",
              "      <td>[82, 89, 91, 87, 89, 87, 86, 86, 86, 86, 84, 8...</td>\n",
              "      <td>1</td>\n",
              "      <td>[-118.2254694333423, 33.73803725920789]</td>\n",
              "      <td>20180708_180909_0f47</td>\n",
              "    </tr>\n",
              "    <tr>\n",
              "      <th>1</th>\n",
              "      <td>[76, 75, 67, 62, 68, 72, 73, 73, 68, 69, 69, 6...</td>\n",
              "      <td>1</td>\n",
              "      <td>[-122.33222866289329, 37.7491755586813]</td>\n",
              "      <td>20170705_180816_103e</td>\n",
              "    </tr>\n",
              "    <tr>\n",
              "      <th>2</th>\n",
              "      <td>[125, 127, 129, 130, 126, 125, 129, 133, 132, ...</td>\n",
              "      <td>1</td>\n",
              "      <td>[-118.14283073363218, 33.736016066914175]</td>\n",
              "      <td>20180712_211331_0f06</td>\n",
              "    </tr>\n",
              "    <tr>\n",
              "      <th>3</th>\n",
              "      <td>[102, 99, 113, 106, 96, 102, 105, 105, 103, 10...</td>\n",
              "      <td>1</td>\n",
              "      <td>[-122.34784341495181, 37.76648707436548]</td>\n",
              "      <td>20170609_180756_103a</td>\n",
              "    </tr>\n",
              "    <tr>\n",
              "      <th>4</th>\n",
              "      <td>[78, 76, 74, 78, 79, 79, 79, 82, 86, 85, 83, 8...</td>\n",
              "      <td>1</td>\n",
              "      <td>[-122.34852408322172, 37.75878462398653]</td>\n",
              "      <td>20170515_180653_1007</td>\n",
              "    </tr>\n",
              "    <tr>\n",
              "      <th>...</th>\n",
              "      <td>...</td>\n",
              "      <td>...</td>\n",
              "      <td>...</td>\n",
              "      <td>...</td>\n",
              "    </tr>\n",
              "    <tr>\n",
              "      <th>3995</th>\n",
              "      <td>[126, 122, 124, 138, 165, 186, 195, 199, 203, ...</td>\n",
              "      <td>0</td>\n",
              "      <td>[-122.08693255500694, 37.77781408256089]</td>\n",
              "      <td>20170815_180821_102d</td>\n",
              "    </tr>\n",
              "    <tr>\n",
              "      <th>3996</th>\n",
              "      <td>[130, 134, 139, 128, 117, 126, 141, 147, 142, ...</td>\n",
              "      <td>0</td>\n",
              "      <td>[-122.10549691828378, 37.76946626247702]</td>\n",
              "      <td>20170730_191230_0f21</td>\n",
              "    </tr>\n",
              "    <tr>\n",
              "      <th>3997</th>\n",
              "      <td>[171, 135, 118, 140, 145, 144, 154, 165, 139, ...</td>\n",
              "      <td>0</td>\n",
              "      <td>[-122.48298739296371, 37.684929808845375]</td>\n",
              "      <td>20161116_180804_0e14</td>\n",
              "    </tr>\n",
              "    <tr>\n",
              "      <th>3998</th>\n",
              "      <td>[85, 90, 94, 95, 94, 92, 93, 96, 93, 94, 94, 9...</td>\n",
              "      <td>0</td>\n",
              "      <td>[-122.29028216570079, 37.71632091139081]</td>\n",
              "      <td>20170211_181116_0e16</td>\n",
              "    </tr>\n",
              "    <tr>\n",
              "      <th>3999</th>\n",
              "      <td>[122, 122, 126, 126, 142, 153, 174, 190, 185, ...</td>\n",
              "      <td>0</td>\n",
              "      <td>[-122.49531387721586, 37.698557210117706]</td>\n",
              "      <td>20180206_184438_1043</td>\n",
              "    </tr>\n",
              "  </tbody>\n",
              "</table>\n",
              "<p>4000 rows × 4 columns</p>\n",
              "</div>"
            ],
            "text/plain": [
              "                                                   data  ...             scene_ids\n",
              "0     [82, 89, 91, 87, 89, 87, 86, 86, 86, 86, 84, 8...  ...  20180708_180909_0f47\n",
              "1     [76, 75, 67, 62, 68, 72, 73, 73, 68, 69, 69, 6...  ...  20170705_180816_103e\n",
              "2     [125, 127, 129, 130, 126, 125, 129, 133, 132, ...  ...  20180712_211331_0f06\n",
              "3     [102, 99, 113, 106, 96, 102, 105, 105, 103, 10...  ...  20170609_180756_103a\n",
              "4     [78, 76, 74, 78, 79, 79, 79, 82, 86, 85, 83, 8...  ...  20170515_180653_1007\n",
              "...                                                 ...  ...                   ...\n",
              "3995  [126, 122, 124, 138, 165, 186, 195, 199, 203, ...  ...  20170815_180821_102d\n",
              "3996  [130, 134, 139, 128, 117, 126, 141, 147, 142, ...  ...  20170730_191230_0f21\n",
              "3997  [171, 135, 118, 140, 145, 144, 154, 165, 139, ...  ...  20161116_180804_0e14\n",
              "3998  [85, 90, 94, 95, 94, 92, 93, 96, 93, 94, 94, 9...  ...  20170211_181116_0e16\n",
              "3999  [122, 122, 126, 126, 142, 153, 174, 190, 185, ...  ...  20180206_184438_1043\n",
              "\n",
              "[4000 rows x 4 columns]"
            ]
          },
          "metadata": {},
          "execution_count": 8
        }
      ]
    },
    {
      "cell_type": "markdown",
      "metadata": {
        "id": "t4ZR3eHn9N8P"
      },
      "source": [
        "________\n",
        "# 3.0 Data Cleaning\n",
        "________\n"
      ]
    },
    {
      "cell_type": "markdown",
      "metadata": {
        "id": "um9-RlAR9Y-K"
      },
      "source": [
        "________\n",
        "# 4.0 Visualizations\n",
        "________"
      ]
    },
    {
      "cell_type": "markdown",
      "metadata": {
        "id": "3VFrj4bp9e82"
      },
      "source": [
        "________\n",
        "# 5.0 Ethical Considerations\n",
        "________"
      ]
    },
    {
      "cell_type": "code",
      "metadata": {
        "id": "6QUuxOaw9eUy"
      },
      "source": [
        ""
      ],
      "execution_count": null,
      "outputs": []
    },
    {
      "cell_type": "code",
      "metadata": {
        "id": "voEZHUgc8Rja"
      },
      "source": [
        ""
      ],
      "execution_count": null,
      "outputs": []
    }
  ]
}